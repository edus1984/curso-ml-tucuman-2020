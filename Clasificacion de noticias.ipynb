{
 "cells": [
  {
   "cell_type": "code",
   "execution_count": 1,
   "metadata": {},
   "outputs": [
    {
     "name": "stderr",
     "output_type": "stream",
     "text": [
      "Using TensorFlow backend.\n",
      "/usr/work01/eduardo/python_venv/venv/lib/python3.5/site-packages/tensorflow/python/framework/dtypes.py:493: FutureWarning: Passing (type, 1) or '1type' as a synonym of type is deprecated; in a future version of numpy, it will be understood as (type, (1,)) / '(1,)type'.\n",
      "  _np_qint8 = np.dtype([(\"qint8\", np.int8, 1)])\n",
      "/usr/work01/eduardo/python_venv/venv/lib/python3.5/site-packages/tensorflow/python/framework/dtypes.py:494: FutureWarning: Passing (type, 1) or '1type' as a synonym of type is deprecated; in a future version of numpy, it will be understood as (type, (1,)) / '(1,)type'.\n",
      "  _np_quint8 = np.dtype([(\"quint8\", np.uint8, 1)])\n",
      "/usr/work01/eduardo/python_venv/venv/lib/python3.5/site-packages/tensorflow/python/framework/dtypes.py:495: FutureWarning: Passing (type, 1) or '1type' as a synonym of type is deprecated; in a future version of numpy, it will be understood as (type, (1,)) / '(1,)type'.\n",
      "  _np_qint16 = np.dtype([(\"qint16\", np.int16, 1)])\n",
      "/usr/work01/eduardo/python_venv/venv/lib/python3.5/site-packages/tensorflow/python/framework/dtypes.py:496: FutureWarning: Passing (type, 1) or '1type' as a synonym of type is deprecated; in a future version of numpy, it will be understood as (type, (1,)) / '(1,)type'.\n",
      "  _np_quint16 = np.dtype([(\"quint16\", np.uint16, 1)])\n",
      "/usr/work01/eduardo/python_venv/venv/lib/python3.5/site-packages/tensorflow/python/framework/dtypes.py:497: FutureWarning: Passing (type, 1) or '1type' as a synonym of type is deprecated; in a future version of numpy, it will be understood as (type, (1,)) / '(1,)type'.\n",
      "  _np_qint32 = np.dtype([(\"qint32\", np.int32, 1)])\n",
      "/usr/work01/eduardo/python_venv/venv/lib/python3.5/site-packages/tensorflow/python/framework/dtypes.py:502: FutureWarning: Passing (type, 1) or '1type' as a synonym of type is deprecated; in a future version of numpy, it will be understood as (type, (1,)) / '(1,)type'.\n",
      "  np_resource = np.dtype([(\"resource\", np.ubyte, 1)])\n"
     ]
    }
   ],
   "source": [
    "## CLASIFICACION DE NOTICIAS EN CATEGORÍAS ##\n",
    "carpetaDatos='./dataset/'\n",
    "carpetaLibs='./libs/'\n",
    "import nltk\n",
    "import pandas as pd\n",
    "from tqdm import tqdm\n",
    "\n",
    "#Importamos librerías locales\n",
    "import sys\n",
    "sys.path.append(carpetaLibs)\n",
    "import preprocesamiento_textos as prepro\n",
    "import ML_textos as mlt\n",
    "\n",
    "#Dataset de noticias preprocesadas\n",
    "df_noticias = pd.read_csv(carpetaDatos+'dataset_final.csv')"
   ]
  },
  {
   "cell_type": "code",
   "execution_count": 3,
   "metadata": {},
   "outputs": [
    {
     "data": {
      "text/plain": [
       "Unnamed: 0      59451\n",
       "ID              59451\n",
       "Fecha           59451\n",
       "Contenido       59451\n",
       "Id_Categoria    59451\n",
       "Categoria       59451\n",
       "dtype: int64"
      ]
     },
     "execution_count": 3,
     "metadata": {},
     "output_type": "execute_result"
    }
   ],
   "source": [
    "#### ALGUNOS INSIGHTS SOBRE EL DATASET: ##\n",
    "## CADA FILA ES UNA NOTICIA DE UNA CATEGORÍA\n",
    "## TENEMOS 59.451 NOTICIAS REGISTRADAS\n",
    "df_noticias.count()"
   ]
  },
  {
   "cell_type": "code",
   "execution_count": 4,
   "metadata": {},
   "outputs": [
    {
     "data": {
      "text/html": [
       "<div>\n",
       "<style scoped>\n",
       "    .dataframe tbody tr th:only-of-type {\n",
       "        vertical-align: middle;\n",
       "    }\n",
       "\n",
       "    .dataframe tbody tr th {\n",
       "        vertical-align: top;\n",
       "    }\n",
       "\n",
       "    .dataframe thead th {\n",
       "        text-align: right;\n",
       "    }\n",
       "</style>\n",
       "<table border=\"1\" class=\"dataframe\">\n",
       "  <thead>\n",
       "    <tr style=\"text-align: right;\">\n",
       "      <th></th>\n",
       "      <th>Unnamed: 0</th>\n",
       "      <th>ID</th>\n",
       "      <th>Fecha</th>\n",
       "      <th>Contenido</th>\n",
       "      <th>Id_Categoria</th>\n",
       "    </tr>\n",
       "    <tr>\n",
       "      <th>Categoria</th>\n",
       "      <th></th>\n",
       "      <th></th>\n",
       "      <th></th>\n",
       "      <th></th>\n",
       "      <th></th>\n",
       "    </tr>\n",
       "  </thead>\n",
       "  <tbody>\n",
       "    <tr>\n",
       "      <th>Cultura</th>\n",
       "      <td>1118</td>\n",
       "      <td>1118</td>\n",
       "      <td>1118</td>\n",
       "      <td>1118</td>\n",
       "      <td>1118</td>\n",
       "    </tr>\n",
       "    <tr>\n",
       "      <th>Deportes</th>\n",
       "      <td>7441</td>\n",
       "      <td>7441</td>\n",
       "      <td>7441</td>\n",
       "      <td>7441</td>\n",
       "      <td>7441</td>\n",
       "    </tr>\n",
       "    <tr>\n",
       "      <th>Economía y Negocios</th>\n",
       "      <td>1305</td>\n",
       "      <td>1305</td>\n",
       "      <td>1305</td>\n",
       "      <td>1305</td>\n",
       "      <td>1305</td>\n",
       "    </tr>\n",
       "    <tr>\n",
       "      <th>Espectáculos</th>\n",
       "      <td>3291</td>\n",
       "      <td>3291</td>\n",
       "      <td>3291</td>\n",
       "      <td>3291</td>\n",
       "      <td>3291</td>\n",
       "    </tr>\n",
       "    <tr>\n",
       "      <th>Internacionales</th>\n",
       "      <td>2031</td>\n",
       "      <td>2031</td>\n",
       "      <td>2031</td>\n",
       "      <td>2031</td>\n",
       "      <td>2031</td>\n",
       "    </tr>\n",
       "    <tr>\n",
       "      <th>Locales</th>\n",
       "      <td>10320</td>\n",
       "      <td>10320</td>\n",
       "      <td>10320</td>\n",
       "      <td>10320</td>\n",
       "      <td>10320</td>\n",
       "    </tr>\n",
       "    <tr>\n",
       "      <th>Mundo</th>\n",
       "      <td>1228</td>\n",
       "      <td>1228</td>\n",
       "      <td>1228</td>\n",
       "      <td>1228</td>\n",
       "      <td>1228</td>\n",
       "    </tr>\n",
       "    <tr>\n",
       "      <th>Nacionales</th>\n",
       "      <td>10760</td>\n",
       "      <td>10760</td>\n",
       "      <td>10760</td>\n",
       "      <td>10760</td>\n",
       "      <td>10760</td>\n",
       "    </tr>\n",
       "    <tr>\n",
       "      <th>Policiales</th>\n",
       "      <td>10811</td>\n",
       "      <td>10811</td>\n",
       "      <td>10811</td>\n",
       "      <td>10811</td>\n",
       "      <td>10811</td>\n",
       "    </tr>\n",
       "    <tr>\n",
       "      <th>Política</th>\n",
       "      <td>6401</td>\n",
       "      <td>6401</td>\n",
       "      <td>6401</td>\n",
       "      <td>6401</td>\n",
       "      <td>6401</td>\n",
       "    </tr>\n",
       "    <tr>\n",
       "      <th>Provinciales</th>\n",
       "      <td>4745</td>\n",
       "      <td>4745</td>\n",
       "      <td>4745</td>\n",
       "      <td>4745</td>\n",
       "      <td>4745</td>\n",
       "    </tr>\n",
       "  </tbody>\n",
       "</table>\n",
       "</div>"
      ],
      "text/plain": [
       "                     Unnamed: 0     ID  Fecha  Contenido  Id_Categoria\n",
       "Categoria                                                             \n",
       "Cultura                    1118   1118   1118       1118          1118\n",
       "Deportes                   7441   7441   7441       7441          7441\n",
       "Economía y Negocios        1305   1305   1305       1305          1305\n",
       "Espectáculos               3291   3291   3291       3291          3291\n",
       "Internacionales            2031   2031   2031       2031          2031\n",
       "Locales                   10320  10320  10320      10320         10320\n",
       "Mundo                      1228   1228   1228       1228          1228\n",
       "Nacionales                10760  10760  10760      10760         10760\n",
       "Policiales                10811  10811  10811      10811         10811\n",
       "Política                   6401   6401   6401       6401          6401\n",
       "Provinciales               4745   4745   4745       4745          4745"
      ]
     },
     "execution_count": 4,
     "metadata": {},
     "output_type": "execute_result"
    }
   ],
   "source": [
    "#DATASET DESBALANCEADO: EXISTEN CATEGORÍAS CON MUCHAS MÁS INSTANCIAS QUE LAS DEMÁS#\n",
    "df_noticias.groupby(['Categoria']).count()"
   ]
  },
  {
   "cell_type": "code",
   "execution_count": 5,
   "metadata": {},
   "outputs": [
    {
     "data": {
      "text/plain": [
       "Policiales             1118\n",
       "Nacionales             1118\n",
       "Política               1118\n",
       "Internacionales        1118\n",
       "Cultura                1118\n",
       "Locales                1118\n",
       "Mundo                  1118\n",
       "Deportes               1118\n",
       "Espectáculos           1118\n",
       "Economía y Negocios    1118\n",
       "Provinciales           1118\n",
       "Name: Categoria, dtype: int64"
      ]
     },
     "execution_count": 5,
     "metadata": {},
     "output_type": "execute_result"
    }
   ],
   "source": [
    "#Balanceamos el dataset para la fase de entrenamiento y test\n",
    "g=df_noticias.groupby('Categoria')\n",
    "df_noticias=pd.DataFrame(g.apply(lambda x: x.sample(g.size().min()).reset_index(drop=True)))\n",
    "df_noticias['Categoria'].value_counts()"
   ]
  },
  {
   "cell_type": "code",
   "execution_count": 6,
   "metadata": {
    "colab": {
     "base_uri": "https://localhost:8080/",
     "height": 34
    },
    "colab_type": "code",
    "executionInfo": {
     "elapsed": 63158,
     "status": "ok",
     "timestamp": 1587171687741,
     "user": {
      "displayName": "Eduardo Xamena",
      "photoUrl": "",
      "userId": "01291621609769392931"
     },
     "user_tz": 180
    },
    "id": "cUmZq3FTNX7Q",
    "outputId": "1987bc90-0088-4bb5-ddd1-ceacf14ad922"
   },
   "outputs": [],
   "source": [
    "#Limpiamos los textos sin quitar stopwords\n",
    "noticias_fase1=[]\n",
    "for texto in tqdm(df_noticias['Contenido']):\n",
    "  textoLimpio=prepro.quitar_digitos(prepro.quitar_signos_puntuacion(prepro.tokenizar(texto.lower())))\n",
    "  noticias_fase1.append(textoLimpio)\n",
    "df_auxiliar=pd.DataFrame({'Contenido':noticias_fase1})\n",
    "prepro.guardar_datos_pickle(noticias_fase1,carpetaDatos+'noticias_fase1.dat')\n",
    "#noticias_fase1=prepro.cargar_datos_pickle(carpetaDatos+'noticias_fase1.dat')"
   ]
  },
  {
   "cell_type": "code",
   "execution_count": 7,
   "metadata": {
    "colab": {
     "base_uri": "https://localhost:8080/",
     "height": 34
    },
    "colab_type": "code",
    "executionInfo": {
     "elapsed": 39525,
     "status": "ok",
     "timestamp": 1587171727290,
     "user": {
      "displayName": "Eduardo Xamena",
      "photoUrl": "",
      "userId": "01291621609769392931"
     },
     "user_tz": 180
    },
    "id": "M3xqdmrhOOQe",
    "outputId": "37bf7ed1-d1a5-4c92-99c9-d366e36fe6f4"
   },
   "outputs": [],
   "source": [
    "#Obtenemos bigrams\n",
    "#listas_bigrams=prepro.cargar_datos_pickle(carpetaDatos+'obj_bigrams_noticias.dat')\n",
    "listas_bigrams=prepro.obtener_bigrams(noticias_fase1)\n",
    "noticias_fase2 = [listas_bigrams[noticia] for noticia in tqdm(noticias_fase1)]\n",
    "prepro.guardar_datos_pickle(noticias_fase2,carpetaDatos+'noticias_para_w2v_2018_con_bigrams.dat')\n",
    "prepro.guardar_datos_pickle(listas_bigrams,carpetaDatos+'obj_bigrams_noticias.dat')\n",
    "#noticias_fase2=prepro.cargar_datos_pickle(carpetaDatos+'noticias_para_w2v_2018_con_bigrams.dat')"
   ]
  },
  {
   "cell_type": "code",
   "execution_count": 8,
   "metadata": {
    "colab": {
     "base_uri": "https://localhost:8080/",
     "height": 70
    },
    "colab_type": "code",
    "executionInfo": {
     "elapsed": 3471,
     "status": "ok",
     "timestamp": 1587171763584,
     "user": {
      "displayName": "Eduardo Xamena",
      "photoUrl": "",
      "userId": "01291621609769392931"
     },
     "user_tz": 180
    },
    "id": "8ys42WmXRb1G",
    "outputId": "741218ee-a26c-4c92-e004-d93b3c1f9a1b"
   },
   "outputs": [],
   "source": [
    "#Armamos y guardamos modelo w2v con bigrams\n",
    "w2v_model=prepro.modelo_word2vec(noticias_fase2)\n",
    "w2v_model.save(carpetaDatos+'modelo_w2v_noticias_con_bigrams.model')\n",
    "#Para cargar el modelo, descomentar las líneas de abajo y comentar las de arriba\n",
    "#from gensim.models import Word2Vec\n",
    "#w2v_model = Word2Vec.load(carpetaDatos+'modelo_w2v_noticias_con_bigrams.model')"
   ]
  },
  {
   "cell_type": "code",
   "execution_count": 9,
   "metadata": {
    "colab": {},
    "colab_type": "code",
    "id": "-oGJmg4fWmk2"
   },
   "outputs": [
    {
     "name": "stderr",
     "output_type": "stream",
     "text": [
      "/usr/work01/eduardo/python_venv/venv/lib/python3.5/site-packages/ipykernel_launcher.py:2: DeprecationWarning: Call to deprecated `most_similar` (Method will be removed in 4.0.0, use self.wv.most_similar() instead).\n",
      "  \n"
     ]
    },
    {
     "data": {
      "image/png": "[encoded data removed]",
      "text/plain": [
       "<Figure size 648x648 with 1 Axes>"
      ]
     },
     "metadata": {},
     "output_type": "display_data"
    }
   ],
   "source": [
    "#prepro.grafico_modelo_w2v(w2v_model, 'inmueble', ['dni','perro','arma','lateral','celular'])\n",
    "prepro.grafico_modelo_w2v(w2v_model, 'moneda', [i[0] for i in w2v_model.most_similar(negative=[\"moneda\"])])"
   ]
  },
  {
   "cell_type": "code",
   "execution_count": 10,
   "metadata": {
    "colab": {
     "base_uri": "https://localhost:8080/",
     "height": 34
    },
    "colab_type": "code",
    "executionInfo": {
     "elapsed": 868,
     "status": "ok",
     "timestamp": 1587174044814,
     "user": {
      "displayName": "Eduardo Xamena",
      "photoUrl": "",
      "userId": "01291621609769392931"
     },
     "user_tz": 180
    },
    "id": "y4ZaOw8k1sFU",
    "outputId": "158901b3-fdd3-4eea-8cd1-0c9f3a6f7b7d"
   },
   "outputs": [
    {
     "data": {
      "text/plain": [
       "343.0"
      ]
     },
     "execution_count": 10,
     "metadata": {},
     "output_type": "execute_result"
    }
   ],
   "source": [
    "#Calculamos la cantidad de palabras por relato (mediana)  \n",
    "prepro.mediana_de_cant_palabras(noticias_fase2)"
   ]
  },
  {
   "cell_type": "code",
   "execution_count": 11,
   "metadata": {
    "colab": {
     "base_uri": "https://localhost:8080/",
     "height": 300
    },
    "colab_type": "code",
    "executionInfo": {
     "elapsed": 881,
     "status": "ok",
     "timestamp": 1587174052253,
     "user": {
      "displayName": "Eduardo Xamena",
      "photoUrl": "",
      "userId": "01291621609769392931"
     },
     "user_tz": 180
    },
    "id": "MyxS-24-1s3C",
    "outputId": "204653e0-a427-40c9-91f8-ae96b70046e3"
   },
   "outputs": [
    {
     "data": {
      "image/png": "[encoded data removed]",
      "text/plain": [
       "<Figure size 432x288 with 1 Axes>"
      ]
     },
     "metadata": {},
     "output_type": "display_data"
    }
   ],
   "source": [
    "#Gráfico de distribución de cantidades de palabras\n",
    "prepro.distribucion_cant_palabras(noticias_fase2)"
   ]
  },
  {
   "cell_type": "code",
   "execution_count": 12,
   "metadata": {
    "colab": {
     "base_uri": "https://localhost:8080/",
     "height": 50
    },
    "colab_type": "code",
    "executionInfo": {
     "elapsed": 9412,
     "status": "ok",
     "timestamp": 1587174131608,
     "user": {
      "displayName": "Eduardo Xamena",
      "photoUrl": "",
      "userId": "01291621609769392931"
     },
     "user_tz": 180
    },
    "id": "4ClykfiuvsAL",
    "outputId": "ff050a8e-726b-40af-e229-416972a54561"
   },
   "outputs": [
    {
     "name": "stderr",
     "output_type": "stream",
     "text": [
      "  4%|▍         | 545/12298 [00:00<00:02, 5430.05it/s]"
     ]
    },
    {
     "name": "stdout",
     "output_type": "stream",
     "text": [
      "Uniendo tokens de oraciones\n"
     ]
    },
    {
     "name": "stderr",
     "output_type": "stream",
     "text": [
      "100%|██████████| 12298/12298 [00:01<00:00, 6828.81it/s]\n"
     ]
    },
    {
     "data": {
      "text/plain": [
       "(12298, 800)"
      ]
     },
     "execution_count": 12,
     "metadata": {},
     "output_type": "execute_result"
    }
   ],
   "source": [
    "#Parámetros para el resto del script\n",
    "maxlen = 800\n",
    "embedding_dim = 300\n",
    "cant_clases = 11\n",
    "num_words_vocab=50000\n",
    "\n",
    "#Obtenemos dataset procesado para ML\n",
    "df_noticias_clasif=df_noticias[['Contenido','Categoria']]\n",
    "X,y,tokenizer=mlt.procesar_textos_tokenizados(df_noticias_clasif,num_words_vocab,maxlen)\n",
    "#X.shape\n",
    "prepro.guardar_datos_pickle(X,carpetaDatos+'matriz_X_noticias.dat')\n",
    "prepro.guardar_datos_pickle(y,carpetaDatos+'matriz_y_noticias.dat')\n",
    "prepro.guardar_datos_pickle(tokenizer,carpetaDatos+'tokenizer_noticias.dat')\n",
    "\n",
    "#Creamos matriz de embeddings desde el modelo de lenguaje\n",
    "embedding_matrix=mlt.matriz_embeddings(w2v_model,tokenizer,embedding_dim)\n",
    "prepro.guardar_datos_pickle(embedding_matrix,carpetaDatos+'embedding_matrix_noticias_low_tok_pun_dig_big_stop.dat')\n",
    "\n",
    "X.shape#(59451, 800)\n",
    "#X[0,:1100]"
   ]
  },
  {
   "cell_type": "code",
   "execution_count": 13,
   "metadata": {},
   "outputs": [
    {
     "name": "stdout",
     "output_type": "stream",
     "text": [
      "_________________________________________________________________\n",
      "Layer (type)                 Output Shape              Param #   \n",
      "=================================================================\n",
      "embedding_1 (Embedding)      (None, 800, 300)          60600     \n",
      "_________________________________________________________________\n",
      "dropout_1 (Dropout)          (None, 800, 300)          0         \n",
      "_________________________________________________________________\n",
      "conv1d_1 (Conv1D)            (None, 786, 128)          576128    \n",
      "_________________________________________________________________\n",
      "max_pooling1d_1 (MaxPooling1 (None, 393, 128)          0         \n",
      "_________________________________________________________________\n",
      "dropout_2 (Dropout)          (None, 393, 128)          0         \n",
      "_________________________________________________________________\n",
      "conv1d_2 (Conv1D)            (None, 384, 64)           81984     \n",
      "_________________________________________________________________\n",
      "max_pooling1d_2 (MaxPooling1 (None, 192, 64)           0         \n",
      "_________________________________________________________________\n",
      "dropout_3 (Dropout)          (None, 192, 64)           0         \n",
      "_________________________________________________________________\n",
      "conv1d_3 (Conv1D)            (None, 188, 32)           10272     \n",
      "_________________________________________________________________\n",
      "max_pooling1d_3 (MaxPooling1 (None, 94, 32)            0         \n",
      "_________________________________________________________________\n",
      "dropout_4 (Dropout)          (None, 94, 32)            0         \n",
      "_________________________________________________________________\n",
      "flatten_1 (Flatten)          (None, 3008)              0         \n",
      "_________________________________________________________________\n",
      "dense_1 (Dense)              (None, 11)                33099     \n",
      "=================================================================\n",
      "Total params: 762,083\n",
      "Trainable params: 701,483\n",
      "Non-trainable params: 60,600\n",
      "_________________________________________________________________\n"
     ]
    }
   ],
   "source": [
    "from keras import layers\n",
    "from keras.models import Sequential\n",
    "from keras.layers import Dense\n",
    "from keras.layers import Dropout\n",
    "from keras.layers import LSTM\n",
    "from keras.layers import Bidirectional\n",
    "from keras.layers import Conv1D\n",
    "from keras.layers import Flatten\n",
    "\n",
    "dropout=0.4\n",
    "embedding_dim=embedding_matrix.shape[1]\n",
    "vocab_size=embedding_matrix.shape[0]\n",
    "model = Sequential()\n",
    "\n",
    "#Capa Embeddings\n",
    "model.add(layers.Embedding(input_dim=vocab_size,\n",
    "    output_dim=embedding_dim,\n",
    "    input_length=maxlen,\n",
    "    weights=[embedding_matrix],\n",
    "    trainable=False))\n",
    "#Dropout\n",
    "model.add(Dropout(dropout))\n",
    "\n",
    "#Capas CNN 1D\n",
    "model.add(layers.Conv1D(filters=128, kernel_size=15, activation='relu'))\n",
    "model.add(layers.MaxPooling1D(pool_size=2))\n",
    "model.add(Dropout(dropout))\n",
    "model.add(layers.Conv1D(filters=64, kernel_size=10, activation='relu'))\n",
    "model.add(layers.MaxPooling1D(pool_size=2))\n",
    "model.add(Dropout(dropout))\n",
    "model.add(layers.Conv1D(filters=32, kernel_size=5, activation='relu'))\n",
    "model.add(layers.MaxPooling1D(pool_size=2))\n",
    "model.add(Dropout(dropout))\n",
    "\n",
    "#Agregamos capa de flatten para que no llegue un array tridimensional a la capa densa\n",
    "model.add(Flatten())\n",
    "\n",
    "#Capas BiLSTM\n",
    "#recurrent_dropout=0.4\n",
    "#model.add(Bidirectional(LSTM(500,return_sequences=True,dropout=dropout,recurrent_dropout=recurrent_dropout)))\n",
    "#model.add(Bidirectional(LSTM(400,return_sequences=False,dropout=dropout,recurrent_dropout=recurrent_dropout)))\n",
    "\n",
    "#Capa de clasificación\n",
    "model.add(layers.Dense(cant_clases, activation='softmax'))\n",
    "\n",
    "#Todavía no usamos una métrica como auc, ya que en esta etapa solamente obtendremos los pesos de la red CNN\n",
    "model.compile(optimizer='adam',\n",
    "          loss='categorical_crossentropy',\n",
    "          metrics=['acc'])\n",
    "\n",
    "model.summary()"
   ]
  },
  {
   "cell_type": "code",
   "execution_count": 20,
   "metadata": {},
   "outputs": [
    {
     "name": "stdout",
     "output_type": "stream",
     "text": [
      "Epoch 1/20\n",
      "12298/12298 [==============================] - 278s 23ms/step - loss: 0.9160 - acc: 0.6703\n",
      "Epoch 2/20\n",
      "12298/12298 [==============================] - 278s 23ms/step - loss: 0.9016 - acc: 0.6729\n",
      "Epoch 3/20\n",
      "12298/12298 [==============================] - 396s 32ms/step - loss: 0.8937 - acc: 0.6724\n",
      "Epoch 4/20\n",
      "12298/12298 [==============================] - 444s 36ms/step - loss: 0.9053 - acc: 0.6723\n",
      "Epoch 5/20\n",
      "12298/12298 [==============================] - 443s 36ms/step - loss: 0.8980 - acc: 0.6762\n",
      "Epoch 6/20\n",
      "12298/12298 [==============================] - 445s 36ms/step - loss: 0.8916 - acc: 0.6792\n",
      "Epoch 7/20\n",
      "12298/12298 [==============================] - 446s 36ms/step - loss: 0.8901 - acc: 0.6776\n",
      "Epoch 8/20\n",
      "12298/12298 [==============================] - 446s 36ms/step - loss: 0.9259 - acc: 0.6670\n",
      "Epoch 9/20\n",
      "12298/12298 [==============================] - 446s 36ms/step - loss: 0.8835 - acc: 0.6824\n",
      "Epoch 10/20\n",
      "12298/12298 [==============================] - 447s 36ms/step - loss: 0.9150 - acc: 0.6704\n",
      "Epoch 11/20\n",
      "12298/12298 [==============================] - 448s 36ms/step - loss: 0.9050 - acc: 0.6690\n",
      "Epoch 12/20\n",
      "12298/12298 [==============================] - 446s 36ms/step - loss: 0.8825 - acc: 0.6794\n",
      "Epoch 13/20\n",
      "12298/12298 [==============================] - 445s 36ms/step - loss: 0.8952 - acc: 0.6744\n",
      "Epoch 14/20\n",
      "12298/12298 [==============================] - 445s 36ms/step - loss: 0.8709 - acc: 0.6837\n",
      "Epoch 15/20\n",
      "12298/12298 [==============================] - 445s 36ms/step - loss: 0.8957 - acc: 0.6765\n",
      "Epoch 16/20\n",
      "12298/12298 [==============================] - 447s 36ms/step - loss: 0.8313 - acc: 0.6979\n",
      "Epoch 17/20\n",
      "12298/12298 [==============================] - 443s 36ms/step - loss: 0.8822 - acc: 0.6814\n",
      "Epoch 18/20\n",
      "12298/12298 [==============================] - 446s 36ms/step - loss: 0.8762 - acc: 0.6831\n",
      "Epoch 19/20\n",
      "12298/12298 [==============================] - 448s 36ms/step - loss: 0.8569 - acc: 0.6891\n",
      "Epoch 20/20\n",
      "12298/12298 [==============================] - 446s 36ms/step - loss: 0.8450 - acc: 0.6937\n"
     ]
    }
   ],
   "source": [
    "##Primer entrenamiento de la red, para obtener los pesos de las capas CNN\n",
    "history = model.fit(X, y,\n",
    "    epochs=20,\n",
    "    verbose=True,\n",
    "    #validation_data=(X_test, y_test_onehot),\n",
    "    batch_size=256)\n",
    "#Guardamos modelo y pesos\n",
    "model_json=model.to_json()\n",
    "with open(carpetaDatos+'modeloRepCNN.json','w') as json_file:\n",
    "    json_file.write(model_json)\n",
    "model.save_weights(carpetaDatos+'modeloRepCNN.h5')"
   ]
  },
  {
   "cell_type": "code",
   "execution_count": 2,
   "metadata": {},
   "outputs": [],
   "source": [
    "#Leer modelo representacional\n",
    "from keras.models import model_from_json\n",
    "\n",
    "json_file=open(carpetaDatos+'modeloRepCNN.json','r')\n",
    "loaded_model_json=json_file.read()\n",
    "json_file.close()\n",
    "model=model_from_json(loaded_model_json)\n",
    "model.load_weights(carpetaDatos+'modeloRepCNN.h5')\n",
    "\n",
    "X=prepro.cargar_datos_pickle(carpetaDatos+'matriz_X_noticias.dat')\n",
    "y=prepro.cargar_datos_pickle(carpetaDatos+'matriz_y_noticias.dat')\n",
    "tokenizer=prepro.cargar_datos_pickle(carpetaDatos+'tokenizer_noticias.dat')"
   ]
  },
  {
   "cell_type": "code",
   "execution_count": 3,
   "metadata": {},
   "outputs": [
    {
     "name": "stderr",
     "output_type": "stream",
     "text": [
      "100%|██████████| 12298/12298 [03:15<00:00, 62.88it/s]\n"
     ]
    },
    {
     "data": {
      "text/plain": [
       "(12298, 3008)"
      ]
     },
     "execution_count": 3,
     "metadata": {},
     "output_type": "execute_result"
    }
   ],
   "source": [
    "#PARA OBTENER LA SALIDA DEL MODELO PARA UNA CAPA EN PARTICULAR, EN ESTE CASO LA ÚLTIMA CNN (Flatten)\n",
    "import numpy as np\n",
    "from keras import backend as K\n",
    "get_cnn_layer_output = K.function([model.layers[0].input],\n",
    "                                  [model.layers[11].output])\n",
    "\n",
    "cant_textos=X.shape[0]\n",
    "cant_caracteres=X.shape[1]\n",
    "aux=[get_cnn_layer_output([X[i].reshape(1,cant_caracteres)])[0][0] for i in tqdm(range(cant_textos))]\n",
    "X_cnn=np.asarray(aux)\n",
    "X_cnn.shape"
   ]
  },
  {
   "cell_type": "code",
   "execution_count": 8,
   "metadata": {},
   "outputs": [
    {
     "name": "stdout",
     "output_type": "stream",
     "text": [
      "AUC Árbol:0.5862579743084306\n",
      "AUC SVM:0.8886882049725856\n",
      "AUC NN:0.9846507767550015\n",
      "AUC Árbol:0.5804871989846645\n",
      "AUC SVM:0.8770556757666337\n",
      "AUC NN:0.9827922498418414\n",
      "AUC Árbol:0.5968693634226606\n",
      "AUC SVM:0.8826260243422258\n",
      "AUC NN:0.9831494406739018\n",
      "AUC Árbol:0.5883619207746769\n",
      "AUC SVM:0.8766106802038586\n",
      "AUC NN:0.9812364825364537\n",
      "AUC Árbol:0.5894786096643\n",
      "AUC SVM:0.8874624216206303\n",
      "AUC NN:0.9837248561686821\n"
     ]
    }
   ],
   "source": [
    "#Probamos Decision Tree, SVM y Perceptrón Multicapa\n",
    "from sklearn.tree import DecisionTreeClassifier\n",
    "from sklearn.model_selection import train_test_split\n",
    "from sklearn.model_selection import KFold\n",
    "from sklearn import metrics\n",
    "from sklearn import preprocessing\n",
    "from sklearn.metrics import roc_auc_score\n",
    "from sklearn import svm\n",
    "from keras.models import Sequential\n",
    "from keras.layers import Dense\n",
    "from keras.layers import Dropout\n",
    "import tensorflow as tf\n",
    "import numpy as np\n",
    "from keras.utils import np_utils\n",
    "\n",
    "#Hack para calcular métrica auc_roc en entrenamiento de nn\n",
    "def auroc(y_true, y_pred):\n",
    "    return tf.py_func(roc_auc_score, (y_true, y_pred), tf.double)\n",
    "\n",
    "scores=[]\n",
    "kf=KFold(n_splits=5,shuffle=True)\n",
    "for train_index, test_index in kf.split(X_cnn):\n",
    "    X_train,X_test=X_cnn[train_index],X_cnn[test_index]\n",
    "    y_train,y_test=y[train_index],y[test_index]\n",
    "    X_train_normalized=preprocessing.normalize(X_train)\n",
    "    X_test_normalized=preprocessing.normalize(X_test)\n",
    "    \n",
    "    #Árbol de decisión\n",
    "    arbol=DecisionTreeClassifier()\n",
    "    arbol=arbol.fit(X_train_normalized, y_train)\n",
    "    y_pred_arbol=arbol.predict(X_test_normalized)\n",
    "    score_arbol=roc_auc_score(y_test,y_pred_arbol)\n",
    "    print('AUC Árbol:{}'.format(score_arbol))\n",
    "    \n",
    "    #SVM\n",
    "    y_train_svm=np.argmax(y_train,axis=1)\n",
    "    y_test_svm=np.argmax(y_test,axis=1)\n",
    "    cl_svm=svm.SVC()\n",
    "    cl_svm.fit(X_train_normalized,y_train_svm)\n",
    "    y_pred_svm=cl_svm.predict(X_test_normalized)\n",
    "    y1=np_utils.to_categorical(y_test_svm)\n",
    "    y2=np_utils.to_categorical(y_pred_svm)\n",
    "    score_svm=roc_auc_score(y1,y2)\n",
    "    print('AUC SVM:{}'.format(score_svm))\n",
    "    \n",
    "    #Perceptrón Multicapa de 3 capas\n",
    "    model = Sequential()\n",
    "    model.add(Dense(250, activation='relu',input_dim=X_train.shape[1]))\n",
    "    model.add(Dropout(0.4))\n",
    "    model.add(Dense(125, activation='relu'))\n",
    "    model.add(Dropout(0.4))\n",
    "    model.add(Dense(11, activation='softmax'))\n",
    "    model.compile(optimizer='adam',\n",
    "          loss='categorical_crossentropy',\n",
    "          metrics=[auroc])\n",
    "    model.fit(X_train_normalized, y_train,\n",
    "        epochs=20,\n",
    "        verbose=False,\n",
    "        batch_size=256)\n",
    "    y_pred_perceptron=model.predict(X_test_normalized)\n",
    "    score_nn=roc_auc_score(y_test,y_pred_perceptron)\n",
    "    print('AUC NN:{}'.format(roc_auc_score(y_test,y_pred_perceptron)))\n",
    "    \n",
    "    #Guardamos valores de AUC para cada modelo en la iteración\n",
    "    scores.append([score_arbol,score_svm,score_nn])"
   ]
  },
  {
   "cell_type": "code",
   "execution_count": 15,
   "metadata": {},
   "outputs": [
    {
     "name": "stdout",
     "output_type": "stream",
     "text": [
      "t-test para Árboles de Decisión vs SVM: Ttest_indResult(statistic=-80.47445917794018, pvalue=6.339037374267414e-13)\n",
      "t-test para Árboles de Decisión vs Perceptrón Multicapa: Ttest_indResult(statistic=-145.92913137814645, pvalue=5.438696291312656e-15)\n",
      "t-test para SVM vs Perceptrón Multicapa: Ttest_indResult(statistic=-38.92836827085366, pvalue=2.0838005626385238e-10)\n"
     ]
    }
   ],
   "source": [
    "import pandas as pd\n",
    "from scipy import stats\n",
    "\n",
    "puntajes=pd.DataFrame(scores)\n",
    "puntajes.to_csv(carpetaDatos+'puntajes.csv')\n",
    "\n",
    "#Calculamos estadístico t de Student a los puntajes\n",
    "print('t-test para Árboles de Decisión vs SVM: {}'.format(stats.ttest_ind(puntajes[0],puntajes[1])))\n",
    "print('t-test para Árboles de Decisión vs Perceptrón Multicapa: {}'.format(stats.ttest_ind(puntajes[0],puntajes[2])))\n",
    "print('t-test para SVM vs Perceptrón Multicapa: {}'.format(stats.ttest_ind(puntajes[1],puntajes[2])))"
   ]
  }
 ],
 "metadata": {
  "accelerator": "TPU",
  "colab": {
   "collapsed_sections": [],
   "machine_shape": "hm",
   "name": "Clasificacion Completa.ipynb",
   "provenance": []
  },
  "kernelspec": {
   "display_name": "Py3.5 Eduardo",
   "language": "python",
   "name": "py3eduardo"
  },
  "language_info": {
   "codemirror_mode": {
    "name": "ipython",
    "version": 3
   },
   "file_extension": ".py",
   "mimetype": "text/x-python",
   "name": "python",
   "nbconvert_exporter": "python",
   "pygments_lexer": "ipython3",
   "version": "3.5.3"
  }
 },
 "nbformat": 4,
 "nbformat_minor": 1
}
